{
 "cells": [
  {
   "cell_type": "markdown",
   "metadata": {},
   "source": [
    "# Análise de Dados com Python\n",
    "\n",
    "### Desafio:\n",
    "\n",
    "Você trabalha em uma empresa de telecom e tem clientes de vários serviços diferentes, entre os principais: internet e telefone.\n",
    "\n",
    "O problema é que, analisando o histórico dos clientes dos últimos anos, você percebeu que a empresa está com Churn de mais de 26% dos clientes.\n",
    "\n",
    "Isso representa uma perda de milhões para a empresa.\n",
    "\n",
    "O que a empresa precisa fazer para resolver isso?\n",
    "\n",
    "Base de Dados: https://drive.google.com/drive/folders/1T7D0BlWkNuy_MDpUHuBG44kT80EmRYIs?usp=sharing <br>\n",
    "Link Original do Kaggle: https://www.kaggle.com/radmirzosimov/telecom-users-dataset"
   ]
  },
  {
   "cell_type": "code",
   "execution_count": 1,
   "metadata": {},
   "outputs": [
    {
     "name": "stdout",
     "output_type": "stream",
     "text": [
      "       IDCliente     Genero  Aposentado Casado Dependentes  MesesComoCliente  \\\n",
      "0     7010-BRBUU  Masculino           0    Sim         Sim                72   \n",
      "1     9688-YGXVR   Feminino           0    Nao         Nao                44   \n",
      "2     9286-DOJGF   Feminino           1    Sim         Nao                38   \n",
      "3     6994-KERXL  Masculino           0    Nao         Nao                 4   \n",
      "4     2181-UAESM  Masculino           0    Nao         Nao                 2   \n",
      "...          ...        ...         ...    ...         ...               ...   \n",
      "5981  0684-AOSIH  Masculino           0    Sim         Nao                 1   \n",
      "5982  5982-PSMKW   Feminino           0    Sim         Sim                23   \n",
      "5983  8044-BGWPI  Masculino           0    Sim         Sim                12   \n",
      "5984  7450-NWRTR  Masculino           1    Nao         Nao                12   \n",
      "5985  4795-UXVCJ  Masculino           0    Nao         Nao                26   \n",
      "\n",
      "     ServicoTelefone MultiplasLinhas ServicoInternet ServicoSegurancaOnline  \\\n",
      "0                Sim             Sim             Nao            SemInternet   \n",
      "1                Sim             Nao           Fibra                    Nao   \n",
      "2                Sim             Sim           Fibra                    Nao   \n",
      "3                Sim             Nao             DSL                    Nao   \n",
      "4                Sim             Nao             DSL                    Sim   \n",
      "...              ...             ...             ...                    ...   \n",
      "5981             Sim             Nao           Fibra                    Sim   \n",
      "5982             Sim             Sim             DSL                    Sim   \n",
      "5983             Sim             Nao             Nao            SemInternet   \n",
      "5984             Sim             Sim           Fibra                    Nao   \n",
      "5985             Sim             Nao             Nao            SemInternet   \n",
      "\n",
      "      ... ServicoSuporteTecnico ServicoStreamingTV ServicoFilmes TipoContrato  \\\n",
      "0     ...           SemInternet        SemInternet   SemInternet       2 anos   \n",
      "1     ...                   Nao                Sim           Nao       Mensal   \n",
      "2     ...                   Nao                Nao           Nao       Mensal   \n",
      "3     ...                   Nao                Nao           Sim       Mensal   \n",
      "4     ...                   Nao                Nao           Nao       Mensal   \n",
      "...   ...                   ...                ...           ...          ...   \n",
      "5981  ...                   Nao                Sim           Sim       Mensal   \n",
      "5982  ...                   Sim                Sim           Sim       2 anos   \n",
      "5983  ...           SemInternet        SemInternet   SemInternet       Mensal   \n",
      "5984  ...                   Nao                Sim           Sim       Mensal   \n",
      "5985  ...           SemInternet        SemInternet   SemInternet        Anual   \n",
      "\n",
      "     FaturaDigital    FormaPagamento ValorMensal TotalGasto  Churn Codigo  \n",
      "0              Nao     CartaoCredito       24.10    1734.65    Nao    NaN  \n",
      "1              Sim     CartaoCredito       88.15     3973.2    Nao    NaN  \n",
      "2              Sim  DebitoAutomatico       74.95    2869.85    Sim    NaN  \n",
      "3              Sim  BoletoEletronico       55.90      238.5    Nao    NaN  \n",
      "4              Nao  BoletoEletronico       53.45      119.5    Nao    NaN  \n",
      "...            ...               ...         ...        ...    ...    ...  \n",
      "5981           Sim  BoletoEletronico       95.00         95    Sim    NaN  \n",
      "5982           Sim     CartaoCredito       91.10     2198.3    Nao    NaN  \n",
      "5983           Sim  BoletoEletronico       21.15     306.05    Nao    NaN  \n",
      "5984           Sim  BoletoEletronico       99.45    1200.15    Sim    NaN  \n",
      "5985           Nao     CartaoCredito       19.80      457.3    Nao    NaN  \n",
      "\n",
      "[5986 rows x 22 columns]\n"
     ]
    }
   ],
   "source": [
    "import pyautogui\n",
    "import pandas as pd\n",
    "import numpy\n",
    "\n",
    "\n",
    "tabela = pd.read_csv('telecom_users.csv')\n",
    "\n",
    "\n",
    "tabela = tabela.drop('Unnamed: 0', axis= 1)\n",
    "\n",
    "print(tabela)\n"
   ]
  },
  {
   "cell_type": "markdown",
   "metadata": {},
   "source": [
    "### Conclusões e Ações"
   ]
  },
  {
   "cell_type": "markdown",
   "metadata": {},
   "source": [
    "Escreva aqui suas conclusões:"
   ]
  }
 ],
 "metadata": {
  "kernelspec": {
   "display_name": "Python 3",
   "language": "python",
   "name": "python3"
  },
  "language_info": {
   "codemirror_mode": {
    "name": "ipython",
    "version": 3
   },
   "file_extension": ".py",
   "mimetype": "text/x-python",
   "name": "python",
   "nbconvert_exporter": "python",
   "pygments_lexer": "ipython3",
   "version": "3.11.1"
  },
  "vscode": {
   "interpreter": {
    "hash": "ed8d04a3f5480727417329b503f2bedcb8401a3bc60ed111e91ffd46d55f4089"
   }
  }
 },
 "nbformat": 4,
 "nbformat_minor": 4
}
